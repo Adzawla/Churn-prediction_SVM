{
  "nbformat": 4,
  "nbformat_minor": 0,
  "metadata": {
    "colab": {
      "name": "Copy of Copy of Copy of Copy of Copy of ADZAWLA_SVM_MSI-vf.ipynb",
      "provenance": [],
      "collapsed_sections": [],
      "toc_visible": true,
      "authorship_tag": "ABX9TyMqCN+I+kRmZa7XLsWrPD4s",
      "include_colab_link": true
    },
    "kernelspec": {
      "name": "python3",
      "display_name": "Python 3"
    }
  },
  "cells": [
    {
      "cell_type": "markdown",
      "metadata": {
        "id": "view-in-github",
        "colab_type": "text"
      },
      "source": [
        "<a href=\"https://colab.research.google.com/github/Adzawla/monBlog/blob/master/PROJET_MSI_ADZAWLA_SVM_vf.ipynb\" target=\"_parent\"><img src=\"https://colab.research.google.com/assets/colab-badge.svg\" alt=\"Open In Colab\"/></a>"
      ]
    },
    {
      "cell_type": "markdown",
      "metadata": {
        "id": "hBfG-c9Zt8LJ"
      },
      "source": [
        "<h1><div align=\"center\"><b> PROJET DE CLASSIFICATION AVEC SVM</b></div></h1>\r\n",
        "\r\n",
        "<u>PRESENTE PAR</u> :\r\n",
        "\r\n",
        "**KUDZO VENUNYE ADZAWLA**"
      ]
    },
    {
      "cell_type": "markdown",
      "metadata": {
        "id": "Slmq2WQyWzEG"
      },
      "source": [
        "**INTRODUCTION**"
      ]
    },
    {
      "cell_type": "markdown",
      "metadata": {
        "id": "BDpyVtG0W4hJ"
      },
      "source": [
        "<p align=\"justify\"> L'algorithme des SVM n'est pas nouveaux. Même s'il semble être dominé par la présence actuelle des Réseaux de neurones artificiels, les SVM demeurent toujours un puissant \r\n",
        "outil de classification en raison de leur performance dans plusieurs cas pratiques et surtout de leur capacité à ne pas surapprendre (overfiting). Pour illustrer cela, nous proposons de réaliser dans le cadre de ce projet un apprentissage supervisé basé sur un jeu de données massif \r\n",
        "qui décrit les caractéristiques ou habitudes de consommation des clients de l' International Business Machines Corporation (IBM), une multinationle américaine basée à Armonk, New York et spécialisée dans la technologique.\r\n"
      ]
    },
    {
      "cell_type": "markdown",
      "metadata": {
        "id": "cpZzm1bRYHM6"
      },
      "source": [
        "### **I - DEFINITION DU PROBLEME**"
      ]
    },
    {
      "cell_type": "markdown",
      "metadata": {
        "id": "YDx_87vUXyJT"
      },
      "source": [
        "<p align=\"justify\"> Face à la complexité des besoins et les exigences sans cesse croissantes des clients recherchant des solutions efficaces et rapides\r\n",
        "pour la satisfaction de leurs besoins, l'entreprise moderne est appélée à se réinventer et à innover par la mise en place de stratégies, plaçant le client au centre des préoccupations.\r\n",
        "En effet, Le CRM ou encore la Gestion de la Relation Client (Customer Relationship Management) est devenu désormais un élément clé des stratégies modernes de marketing. Il est définie comme une stratégie de gestion des relations et interactions d'une entreprise avec ses clients ou clients potentiels.</p>\r\n",
        "\r\n",
        "<p align=\"justify\">Il aide les entreprises à interagir en permanence avec les clients, à rationaliser leurs processus et à améliorer leur rentabilité.</p>\r\n",
        "\r\n",
        "<p align=\"justify\">Techniquement le CRM consiste à construire un score synthétique à partir des variables décrivant les aptitudes et comportement d'achat du client, dans le but de mieux connaitre ce dernier. En effet, grâce au score calculé on peut par exemple déterminer le taux de départ ou d'attrition d'un client ou encore \r\n",
        "sa propension à acheter un produit ou service.\r\n",
        "Dans le cadre de ce projet, notre principale activité consistera à réaliser une classification binaire des clients, selon leur propension de quitter ou pas la compagnie. La finalité de cette démarche est de permettre à l'entreprise de cibler les clients qui présentent une forte probabilité de se désabonner de l'entreprise afin de mettre en place une stratégie de fidélisation qui les empêchera de partir. </p>"
      ]
    },
    {
      "cell_type": "markdown",
      "metadata": {
        "id": "6JRibSQ3avLj"
      },
      "source": [
        "### **II - DONNEES**"
      ]
    },
    {
      "cell_type": "markdown",
      "metadata": {
        "id": "2ZZAskQ8bVAW"
      },
      "source": [
        "- Source de données : https://www.kaggle.com/blastchar/telco-customer-churn\r\n",
        "        \r\n",
        "- Le fichier de données est nommé WA_Fn-UseC_-Telco-Customer-Churn.csv. Il contient 7043 observations et 21 variables .\r\n",
        "\r\n",
        "- Les variables décrivent les traits caractéristiques ou habitudes de consommation des clients et sont définies comme suit:\r\n",
        "\r\n",
        "|Variables        |      description                       |\r\n",
        "|-----------------|----------------------------------------|\r\n",
        "|customerID       | Numero d'identification du client|\r\n",
        "|Gender           | Le genre du client|\r\n",
        "|SeniorCitizen    | Le citoyen est un senior ou non|\r\n",
        "|Partner          | Le client a partenaire ou non |\r\n",
        "|Dependents       | Le client a des personnes à charges ou non|\r\n",
        "|Tenure           | Le nombre de mois effectué avec la compagnie|\r\n",
        "|PhoneService     | Le client bénéficie ou non des servics téléphonique|\r\n",
        "|MultipleLines    | Le client utilise plusieurs réseaux de communication ou non |\r\n",
        "|InternetService  | Le client a bénéficie de services internet DSL, Fibre optique ou non |\r\n",
        "|OnlineSecurity   | Le client a t-il un dispositif de sécurité internet ou non|\r\n",
        "|OnlineBackup     | Le client dispose d'un Stockage en ligne ou non|\r\n",
        "|DeviceProtection | Le client dispose ou non d'un dispositif de protection|\r\n",
        "|TechSupport      | Le client dispose d'une assistance technique ou non|\r\n",
        "|StreamingTV      | Le client dispose ou non d'une télévision en continu |\r\n",
        "|StreamingMovies  | Le client a des films en streaming ou non|\r\n",
        "|Contract         | La durée du contrat du client |\r\n",
        "|PaperlessBilling | Le client a une facturation sans papier ou non |\r\n",
        "|PaymentMethod    | Le mode de paiement du client|\r\n",
        "|MonthlyCharges   | Le montant facturé au client chaque mois|\r\n",
        "|TotalCharges     | Le montant total facturé au client|\r\n",
        "|Churn            | Si le client s'est désabonné (parti) ou non.|\r\n",
        "\r\n",
        "- La variable Churn est la variable cible"
      ]
    },
    {
      "cell_type": "markdown",
      "metadata": {
        "id": "Sv1lueZ0FF2K"
      },
      "source": [
        "### **III- MANIPULATION DES DONNEES**"
      ]
    },
    {
      "cell_type": "code",
      "metadata": {
        "id": "TVtqUF7xtcMR"
      },
      "source": [
        "#Chargement des bibliothèques\r\n",
        "\r\n",
        "import pandas as pd\r\n",
        "import numpy as np\r\n",
        "from sklearn import metrics\r\n",
        "from sklearn.metrics import roc_curve\r\n",
        "from sklearn.metrics import auc\r\n",
        "from sklearn.utils import resample\r\n",
        "from sklearn.manifold import TSNE\r\n",
        "from sklearn import decomposition\r\n",
        "from sklearn.model_selection import RandomizedSearchCV\r\n",
        "from sklearn.linear_model import LogisticRegression\r\n",
        "from sklearn.tree import DecisionTreeClassifier\r\n",
        "from sklearn.calibration import CalibratedClassifierCV\r\n",
        "from sklearn.linear_model import SGDClassifier\r\n",
        "from sklearn.ensemble import RandomForestClassifier\r\n",
        "from sklearn import preprocessing\r\n",
        "from sklearn.metrics import confusion_matrix\r\n",
        "from datetime import datetime as dt\r\n",
        "from sklearn.model_selection import train_test_split\r\n",
        "import matplotlib.pyplot as plt\r\n",
        "rand_state=123\r\n",
        "%matplotlib inline\r\n",
        "import warnings\r\n",
        "warnings.filterwarnings(\"ignore\")\r\n",
        "import pandas_profiling\r\n",
        "\r\n",
        "from sklearn.utils import shuffle\r\n",
        "from sklearn.preprocessing import StandardScaler\r\n",
        "import random"
      ],
      "execution_count": null,
      "outputs": []
    },
    {
      "cell_type": "code",
      "metadata": {
        "id": "jvqBoI1ttl_s"
      },
      "source": [
        "# Importation de la base de données\r\n",
        "\r\n",
        "df=pd.read_csv(\"Telco-Customer-Churn.csv\")\r\n",
        "#print('La base contient %s observations et %s variables' %(df.shape))"
      ],
      "execution_count": null,
      "outputs": []
    },
    {
      "cell_type": "code",
      "metadata": {
        "colab": {
          "base_uri": "https://localhost:8080/",
          "height": 414
        },
        "id": "K4pDIzp4vz9P",
        "outputId": "f7f2ae9d-5ac2-4be0-8577-585d247646b4"
      },
      "source": [
        "print(df.columns)\r\n",
        "\r\n",
        "df=shuffle(df)\r\n",
        "\r\n",
        "df.head()"
      ],
      "execution_count": null,
      "outputs": [
        {
          "output_type": "stream",
          "text": [
            "Index(['customerID', 'gender', 'SeniorCitizen', 'Partner', 'Dependents',\n",
            "       'tenure', 'PhoneService', 'MultipleLines', 'InternetService',\n",
            "       'OnlineSecurity', 'OnlineBackup', 'DeviceProtection', 'TechSupport',\n",
            "       'StreamingTV', 'StreamingMovies', 'Contract', 'PaperlessBilling',\n",
            "       'PaymentMethod', 'MonthlyCharges', 'TotalCharges', 'Churn'],\n",
            "      dtype='object')\n"
          ],
          "name": "stdout"
        },
        {
          "output_type": "execute_result",
          "data": {
            "text/html": [
              "<div>\n",
              "<style scoped>\n",
              "    .dataframe tbody tr th:only-of-type {\n",
              "        vertical-align: middle;\n",
              "    }\n",
              "\n",
              "    .dataframe tbody tr th {\n",
              "        vertical-align: top;\n",
              "    }\n",
              "\n",
              "    .dataframe thead th {\n",
              "        text-align: right;\n",
              "    }\n",
              "</style>\n",
              "<table border=\"1\" class=\"dataframe\">\n",
              "  <thead>\n",
              "    <tr style=\"text-align: right;\">\n",
              "      <th></th>\n",
              "      <th>customerID</th>\n",
              "      <th>gender</th>\n",
              "      <th>SeniorCitizen</th>\n",
              "      <th>Partner</th>\n",
              "      <th>Dependents</th>\n",
              "      <th>tenure</th>\n",
              "      <th>PhoneService</th>\n",
              "      <th>MultipleLines</th>\n",
              "      <th>InternetService</th>\n",
              "      <th>OnlineSecurity</th>\n",
              "      <th>OnlineBackup</th>\n",
              "      <th>DeviceProtection</th>\n",
              "      <th>TechSupport</th>\n",
              "      <th>StreamingTV</th>\n",
              "      <th>StreamingMovies</th>\n",
              "      <th>Contract</th>\n",
              "      <th>PaperlessBilling</th>\n",
              "      <th>PaymentMethod</th>\n",
              "      <th>MonthlyCharges</th>\n",
              "      <th>TotalCharges</th>\n",
              "      <th>Churn</th>\n",
              "    </tr>\n",
              "  </thead>\n",
              "  <tbody>\n",
              "    <tr>\n",
              "      <th>4837</th>\n",
              "      <td>5134-IKDAY</td>\n",
              "      <td>Female</td>\n",
              "      <td>0</td>\n",
              "      <td>Yes</td>\n",
              "      <td>Yes</td>\n",
              "      <td>1</td>\n",
              "      <td>Yes</td>\n",
              "      <td>No</td>\n",
              "      <td>Fiber optic</td>\n",
              "      <td>No</td>\n",
              "      <td>No</td>\n",
              "      <td>No</td>\n",
              "      <td>No</td>\n",
              "      <td>No</td>\n",
              "      <td>No</td>\n",
              "      <td>Month-to-month</td>\n",
              "      <td>Yes</td>\n",
              "      <td>Electronic check</td>\n",
              "      <td>69.80</td>\n",
              "      <td>69.8</td>\n",
              "      <td>Yes</td>\n",
              "    </tr>\n",
              "    <tr>\n",
              "      <th>1667</th>\n",
              "      <td>4403-BWPAY</td>\n",
              "      <td>Male</td>\n",
              "      <td>0</td>\n",
              "      <td>No</td>\n",
              "      <td>No</td>\n",
              "      <td>14</td>\n",
              "      <td>Yes</td>\n",
              "      <td>Yes</td>\n",
              "      <td>No</td>\n",
              "      <td>No internet service</td>\n",
              "      <td>No internet service</td>\n",
              "      <td>No internet service</td>\n",
              "      <td>No internet service</td>\n",
              "      <td>No internet service</td>\n",
              "      <td>No internet service</td>\n",
              "      <td>One year</td>\n",
              "      <td>Yes</td>\n",
              "      <td>Credit card (automatic)</td>\n",
              "      <td>24.80</td>\n",
              "      <td>321.7</td>\n",
              "      <td>No</td>\n",
              "    </tr>\n",
              "    <tr>\n",
              "      <th>4736</th>\n",
              "      <td>3050-RLLXC</td>\n",
              "      <td>Female</td>\n",
              "      <td>0</td>\n",
              "      <td>Yes</td>\n",
              "      <td>Yes</td>\n",
              "      <td>56</td>\n",
              "      <td>Yes</td>\n",
              "      <td>Yes</td>\n",
              "      <td>DSL</td>\n",
              "      <td>Yes</td>\n",
              "      <td>Yes</td>\n",
              "      <td>Yes</td>\n",
              "      <td>Yes</td>\n",
              "      <td>Yes</td>\n",
              "      <td>No</td>\n",
              "      <td>Two year</td>\n",
              "      <td>No</td>\n",
              "      <td>Credit card (automatic)</td>\n",
              "      <td>81.25</td>\n",
              "      <td>4620.4</td>\n",
              "      <td>No</td>\n",
              "    </tr>\n",
              "    <tr>\n",
              "      <th>3923</th>\n",
              "      <td>5275-SQEIZ</td>\n",
              "      <td>Male</td>\n",
              "      <td>0</td>\n",
              "      <td>No</td>\n",
              "      <td>No</td>\n",
              "      <td>1</td>\n",
              "      <td>Yes</td>\n",
              "      <td>No</td>\n",
              "      <td>Fiber optic</td>\n",
              "      <td>No</td>\n",
              "      <td>No</td>\n",
              "      <td>No</td>\n",
              "      <td>No</td>\n",
              "      <td>No</td>\n",
              "      <td>Yes</td>\n",
              "      <td>Month-to-month</td>\n",
              "      <td>Yes</td>\n",
              "      <td>Mailed check</td>\n",
              "      <td>80.85</td>\n",
              "      <td>80.85</td>\n",
              "      <td>Yes</td>\n",
              "    </tr>\n",
              "    <tr>\n",
              "      <th>4183</th>\n",
              "      <td>6917-IAYHD</td>\n",
              "      <td>Male</td>\n",
              "      <td>0</td>\n",
              "      <td>No</td>\n",
              "      <td>Yes</td>\n",
              "      <td>1</td>\n",
              "      <td>No</td>\n",
              "      <td>No phone service</td>\n",
              "      <td>DSL</td>\n",
              "      <td>No</td>\n",
              "      <td>Yes</td>\n",
              "      <td>No</td>\n",
              "      <td>Yes</td>\n",
              "      <td>No</td>\n",
              "      <td>No</td>\n",
              "      <td>Month-to-month</td>\n",
              "      <td>No</td>\n",
              "      <td>Mailed check</td>\n",
              "      <td>33.60</td>\n",
              "      <td>33.6</td>\n",
              "      <td>No</td>\n",
              "    </tr>\n",
              "  </tbody>\n",
              "</table>\n",
              "</div>"
            ],
            "text/plain": [
              "      customerID  gender  SeniorCitizen  ... MonthlyCharges TotalCharges  Churn\n",
              "4837  5134-IKDAY  Female              0  ...          69.80         69.8    Yes\n",
              "1667  4403-BWPAY    Male              0  ...          24.80        321.7     No\n",
              "4736  3050-RLLXC  Female              0  ...          81.25       4620.4     No\n",
              "3923  5275-SQEIZ    Male              0  ...          80.85        80.85    Yes\n",
              "4183  6917-IAYHD    Male              0  ...          33.60         33.6     No\n",
              "\n",
              "[5 rows x 21 columns]"
            ]
          },
          "metadata": {
            "tags": []
          },
          "execution_count": 61
        }
      ]
    },
    {
      "cell_type": "code",
      "metadata": {
        "colab": {
          "base_uri": "https://localhost:8080/"
        },
        "id": "bIWzffWVv5_G",
        "outputId": "a3ac86ae-96f7-417e-a3e7-5119af227f38"
      },
      "source": [
        "# Inspection des valeurs manquantes\r\n",
        "\r\n",
        "df.isnull().sum(axis=0)"
      ],
      "execution_count": null,
      "outputs": [
        {
          "output_type": "execute_result",
          "data": {
            "text/plain": [
              "customerID          0\n",
              "gender              0\n",
              "SeniorCitizen       0\n",
              "Partner             0\n",
              "Dependents          0\n",
              "tenure              0\n",
              "PhoneService        0\n",
              "MultipleLines       0\n",
              "InternetService     0\n",
              "OnlineSecurity      0\n",
              "OnlineBackup        0\n",
              "DeviceProtection    0\n",
              "TechSupport         0\n",
              "StreamingTV         0\n",
              "StreamingMovies     0\n",
              "Contract            0\n",
              "PaperlessBilling    0\n",
              "PaymentMethod       0\n",
              "MonthlyCharges      0\n",
              "TotalCharges        0\n",
              "Churn               0\n",
              "dtype: int64"
            ]
          },
          "metadata": {
            "tags": []
          },
          "execution_count": 62
        }
      ]
    },
    {
      "cell_type": "markdown",
      "metadata": {
        "id": "8kU0xkjBm02i"
      },
      "source": [
        "#####**Observation**\r\n",
        "\r\n",
        "On remarque que le jeu de données ne contient aucune valeur manquante, ce qui nous permet d'avancer sans contrainte dans la manipulation et traitement des données."
      ]
    },
    {
      "cell_type": "code",
      "metadata": {
        "colab": {
          "base_uri": "https://localhost:8080/",
          "height": 323
        },
        "id": "h2P1YKipwId_",
        "outputId": "a115b16c-5b91-4953-d620-6576f2fc690e"
      },
      "source": [
        "\r\n",
        "#Suppression de la colonne CustomerID de la base\r\n",
        "\r\n",
        "df2 = df.iloc[:,1:]\r\n",
        "\r\n",
        "#Convertin the predictor variable in a binary numeric variable\r\n",
        "df2['Churn'].replace(to_replace='Yes', value=1, inplace=True)\r\n",
        "df2['Churn'].replace(to_replace='No',  value=0, inplace=True)\r\n",
        "\r\n",
        "print(df2.shape)\r\n",
        "\r\n",
        "df2.head()"
      ],
      "execution_count": null,
      "outputs": [
        {
          "output_type": "stream",
          "text": [
            "(7043, 20)\n"
          ],
          "name": "stdout"
        },
        {
          "output_type": "execute_result",
          "data": {
            "text/html": [
              "<div>\n",
              "<style scoped>\n",
              "    .dataframe tbody tr th:only-of-type {\n",
              "        vertical-align: middle;\n",
              "    }\n",
              "\n",
              "    .dataframe tbody tr th {\n",
              "        vertical-align: top;\n",
              "    }\n",
              "\n",
              "    .dataframe thead th {\n",
              "        text-align: right;\n",
              "    }\n",
              "</style>\n",
              "<table border=\"1\" class=\"dataframe\">\n",
              "  <thead>\n",
              "    <tr style=\"text-align: right;\">\n",
              "      <th></th>\n",
              "      <th>gender</th>\n",
              "      <th>SeniorCitizen</th>\n",
              "      <th>Partner</th>\n",
              "      <th>Dependents</th>\n",
              "      <th>tenure</th>\n",
              "      <th>PhoneService</th>\n",
              "      <th>MultipleLines</th>\n",
              "      <th>InternetService</th>\n",
              "      <th>OnlineSecurity</th>\n",
              "      <th>OnlineBackup</th>\n",
              "      <th>DeviceProtection</th>\n",
              "      <th>TechSupport</th>\n",
              "      <th>StreamingTV</th>\n",
              "      <th>StreamingMovies</th>\n",
              "      <th>Contract</th>\n",
              "      <th>PaperlessBilling</th>\n",
              "      <th>PaymentMethod</th>\n",
              "      <th>MonthlyCharges</th>\n",
              "      <th>TotalCharges</th>\n",
              "      <th>Churn</th>\n",
              "    </tr>\n",
              "  </thead>\n",
              "  <tbody>\n",
              "    <tr>\n",
              "      <th>4837</th>\n",
              "      <td>Female</td>\n",
              "      <td>0</td>\n",
              "      <td>Yes</td>\n",
              "      <td>Yes</td>\n",
              "      <td>1</td>\n",
              "      <td>Yes</td>\n",
              "      <td>No</td>\n",
              "      <td>Fiber optic</td>\n",
              "      <td>No</td>\n",
              "      <td>No</td>\n",
              "      <td>No</td>\n",
              "      <td>No</td>\n",
              "      <td>No</td>\n",
              "      <td>No</td>\n",
              "      <td>Month-to-month</td>\n",
              "      <td>Yes</td>\n",
              "      <td>Electronic check</td>\n",
              "      <td>69.80</td>\n",
              "      <td>69.8</td>\n",
              "      <td>1</td>\n",
              "    </tr>\n",
              "    <tr>\n",
              "      <th>1667</th>\n",
              "      <td>Male</td>\n",
              "      <td>0</td>\n",
              "      <td>No</td>\n",
              "      <td>No</td>\n",
              "      <td>14</td>\n",
              "      <td>Yes</td>\n",
              "      <td>Yes</td>\n",
              "      <td>No</td>\n",
              "      <td>No internet service</td>\n",
              "      <td>No internet service</td>\n",
              "      <td>No internet service</td>\n",
              "      <td>No internet service</td>\n",
              "      <td>No internet service</td>\n",
              "      <td>No internet service</td>\n",
              "      <td>One year</td>\n",
              "      <td>Yes</td>\n",
              "      <td>Credit card (automatic)</td>\n",
              "      <td>24.80</td>\n",
              "      <td>321.7</td>\n",
              "      <td>0</td>\n",
              "    </tr>\n",
              "    <tr>\n",
              "      <th>4736</th>\n",
              "      <td>Female</td>\n",
              "      <td>0</td>\n",
              "      <td>Yes</td>\n",
              "      <td>Yes</td>\n",
              "      <td>56</td>\n",
              "      <td>Yes</td>\n",
              "      <td>Yes</td>\n",
              "      <td>DSL</td>\n",
              "      <td>Yes</td>\n",
              "      <td>Yes</td>\n",
              "      <td>Yes</td>\n",
              "      <td>Yes</td>\n",
              "      <td>Yes</td>\n",
              "      <td>No</td>\n",
              "      <td>Two year</td>\n",
              "      <td>No</td>\n",
              "      <td>Credit card (automatic)</td>\n",
              "      <td>81.25</td>\n",
              "      <td>4620.4</td>\n",
              "      <td>0</td>\n",
              "    </tr>\n",
              "    <tr>\n",
              "      <th>3923</th>\n",
              "      <td>Male</td>\n",
              "      <td>0</td>\n",
              "      <td>No</td>\n",
              "      <td>No</td>\n",
              "      <td>1</td>\n",
              "      <td>Yes</td>\n",
              "      <td>No</td>\n",
              "      <td>Fiber optic</td>\n",
              "      <td>No</td>\n",
              "      <td>No</td>\n",
              "      <td>No</td>\n",
              "      <td>No</td>\n",
              "      <td>No</td>\n",
              "      <td>Yes</td>\n",
              "      <td>Month-to-month</td>\n",
              "      <td>Yes</td>\n",
              "      <td>Mailed check</td>\n",
              "      <td>80.85</td>\n",
              "      <td>80.85</td>\n",
              "      <td>1</td>\n",
              "    </tr>\n",
              "    <tr>\n",
              "      <th>4183</th>\n",
              "      <td>Male</td>\n",
              "      <td>0</td>\n",
              "      <td>No</td>\n",
              "      <td>Yes</td>\n",
              "      <td>1</td>\n",
              "      <td>No</td>\n",
              "      <td>No phone service</td>\n",
              "      <td>DSL</td>\n",
              "      <td>No</td>\n",
              "      <td>Yes</td>\n",
              "      <td>No</td>\n",
              "      <td>Yes</td>\n",
              "      <td>No</td>\n",
              "      <td>No</td>\n",
              "      <td>Month-to-month</td>\n",
              "      <td>No</td>\n",
              "      <td>Mailed check</td>\n",
              "      <td>33.60</td>\n",
              "      <td>33.6</td>\n",
              "      <td>0</td>\n",
              "    </tr>\n",
              "  </tbody>\n",
              "</table>\n",
              "</div>"
            ],
            "text/plain": [
              "      gender  SeniorCitizen Partner  ... MonthlyCharges  TotalCharges Churn\n",
              "4837  Female              0     Yes  ...          69.80          69.8     1\n",
              "1667    Male              0      No  ...          24.80         321.7     0\n",
              "4736  Female              0     Yes  ...          81.25        4620.4     0\n",
              "3923    Male              0      No  ...          80.85         80.85     1\n",
              "4183    Male              0      No  ...          33.60          33.6     0\n",
              "\n",
              "[5 rows x 20 columns]"
            ]
          },
          "metadata": {
            "tags": []
          },
          "execution_count": 63
        }
      ]
    },
    {
      "cell_type": "code",
      "metadata": {
        "id": "vY3-xDNmDldR"
      },
      "source": [
        "# Identification du types des donnees\r\n",
        "\r\n",
        "dfVars = df2.columns\r\n",
        "data_types = {Var: df2[Var].dtype for Var in dfVars}\r\n",
        "\r\n",
        "for Var in dfVars:\r\n",
        "    if data_types[Var] == int:\r\n",
        "        x = df2[Var].astype(float)\r\n",
        "        df.loc[:, Var] = x\r\n",
        "        data_types[Var] = x.dtype\r\n",
        "    elif data_types[Var] != float:\r\n",
        "        x = df2[Var].astype('category')\r\n",
        "        df2.loc[:, Var] = x\r\n",
        "        data_types[Var] = x.dtype"
      ],
      "execution_count": null,
      "outputs": []
    },
    {
      "cell_type": "code",
      "metadata": {
        "colab": {
          "base_uri": "https://localhost:8080/"
        },
        "id": "pNJsjauoDtG6",
        "outputId": "9700ba56-0c83-4113-f49a-04389f9ac694"
      },
      "source": [
        "# Identification des variables catégorielles\r\n",
        "\r\n",
        "float_dfVars = [Var for Var in dfVars\r\n",
        "                     if data_types[Var] != float]\r\n",
        "float_dfVars"
      ],
      "execution_count": null,
      "outputs": [
        {
          "output_type": "execute_result",
          "data": {
            "text/plain": [
              "['gender',\n",
              " 'Partner',\n",
              " 'Dependents',\n",
              " 'PhoneService',\n",
              " 'MultipleLines',\n",
              " 'InternetService',\n",
              " 'OnlineSecurity',\n",
              " 'OnlineBackup',\n",
              " 'DeviceProtection',\n",
              " 'TechSupport',\n",
              " 'StreamingTV',\n",
              " 'StreamingMovies',\n",
              " 'Contract',\n",
              " 'PaperlessBilling',\n",
              " 'PaymentMethod',\n",
              " 'TotalCharges']"
            ]
          },
          "metadata": {
            "tags": []
          },
          "execution_count": 65
        }
      ]
    },
    {
      "cell_type": "markdown",
      "metadata": {
        "id": "7zbYzjtr2hzO"
      },
      "source": [
        "### **VI- PREPARATION DES DONNEES POUR LA MODELISATION**"
      ]
    },
    {
      "cell_type": "code",
      "metadata": {
        "id": "7ZxqSATYkHmI"
      },
      "source": [
        "# Partageons le jeux de données entre variables dependates et variables independantes\r\n",
        "\r\n",
        "X=df2.iloc[:,0:19].astype(str)\r\n",
        "Y=df2.iloc[:,19].astype(str)"
      ],
      "execution_count": null,
      "outputs": []
    },
    {
      "cell_type": "code",
      "metadata": {
        "id": "w5RxxCciEKzY"
      },
      "source": [
        "### Partageons la base entre entrainement et test\r\n",
        "from sklearn.model_selection import train_test_split\r\n",
        "X_train, X_test, Y_train, Y_test = train_test_split(X,Y, test_size=0.2, random_state=0)\r\n"
      ],
      "execution_count": null,
      "outputs": []
    },
    {
      "cell_type": "markdown",
      "metadata": {
        "id": "8seTqyoGoSSS"
      },
      "source": [
        "Etant donné la présence des variables catégorielles, nous allons donc procéder par une discrétisation des variables. Aussi, pour permettre que l'algorithme puisse fonctionner rapidement et efficacement tout en évitant des biais liés aux effets échelles, une standardisation sera réalisée sur les les valeurs de chaque variable."
      ]
    },
    {
      "cell_type": "code",
      "metadata": {
        "id": "IHn2eu0aL3bp"
      },
      "source": [
        "# Disrétisation des variables\r\n",
        "\r\n",
        "random.seed(10)\r\n",
        "\r\n",
        "from sklearn.preprocessing import LabelEncoder\r\n",
        "from sklearn.preprocessing import OrdinalEncoder\r\n",
        "np.set_printoptions(precision=2)\r\n",
        "np.set_printoptions(suppress=True)\r\n",
        "\r\n",
        "ordinal_encoder = OrdinalEncoder()\r\n",
        "ordinal_encoder.fit(X_train)\r\n",
        "X_train = ordinal_encoder.transform(X_train)\r\n",
        "\r\n",
        "ordinal_encoder.fit(X_test)\r\n",
        "X_test = ordinal_encoder.transform(X_test)\r\n"
      ],
      "execution_count": null,
      "outputs": []
    },
    {
      "cell_type": "code",
      "metadata": {
        "id": "PpwWC335RGLh"
      },
      "source": [
        "# Normalisation des variables\r\n",
        "\r\n",
        "random.seed(20)\r\n",
        "\r\n",
        "from sklearn.preprocessing import StandardScaler\r\n",
        "sc = StandardScaler()\r\n",
        "X_train = sc.fit_transform(X_train)\r\n",
        "X_test = sc.fit_transform(X_test)"
      ],
      "execution_count": null,
      "outputs": []
    },
    {
      "cell_type": "markdown",
      "metadata": {
        "id": "4a6LDvAq214M"
      },
      "source": [
        "### **V- MODELISATION**"
      ]
    },
    {
      "cell_type": "markdown",
      "metadata": {
        "id": "t1j_fsq1qQ25"
      },
      "source": [
        "Dans cette partie, nous allons réaliser la classification selon les fonctions : linéaire, polynômiale, sigmoïde et RBF. L'objectif est de voir laquelle des fonctions classifie mieux les clients dans un temps record."
      ]
    },
    {
      "cell_type": "code",
      "metadata": {
        "colab": {
          "base_uri": "https://localhost:8080/"
        },
        "id": "bcS0Y8yfUoGM",
        "outputId": "958b9a39-af36-4931-a780-dbaf3f23a1e4"
      },
      "source": [
        "# Fonction linéaire\r\n",
        "random.seed(30)\r\n",
        "\r\n",
        "from __future__ import print_function, division\r\n",
        "from builtins import range\r\n",
        "from datetime import datetime\r\n",
        "\r\n",
        "from sklearn.svm import SVC\r\n",
        "\r\n",
        "model_lin = SVC(kernel=\"linear\",C=5., gamma=.08 )\r\n",
        "\r\n",
        "t0 = datetime.now()\r\n",
        "model_lin.fit(X_train, Y_train)\r\n",
        "print(\"Temps mis pour entrainer le modèle :\", datetime.now() - t0)\r\n",
        "t0 = datetime.now()\r\n",
        "print(\"Train score:\", model_lin.score(X_train, Y_train), \"Durée:\", datetime.now() - t0)\r\n",
        "t0 = datetime.now()\r\n",
        "print(\"Test score:\", model_lin.score(X_test, Y_test), \"Durée:\", datetime.now() - t0)"
      ],
      "execution_count": null,
      "outputs": [
        {
          "output_type": "stream",
          "text": [
            "Temps mis pour entrainer le modèle : 0:00:02.948741\n",
            "Train score: 0.7839900603478879 Durée: 0:00:00.323818\n",
            "Test score: 0.7750177430801988 Durée: 0:00:00.078821\n"
          ],
          "name": "stdout"
        }
      ]
    },
    {
      "cell_type": "code",
      "metadata": {
        "colab": {
          "base_uri": "https://localhost:8080/"
        },
        "id": "9-LPPjct8r7T",
        "outputId": "a12aecf8-3c31-4163-f7e0-6f48336032c0"
      },
      "source": [
        "# Fonction polynomiale\r\n",
        "\r\n",
        "random.seed(40)\r\n",
        "\r\n",
        "t0 = datetime.now()\r\n",
        "\r\n",
        "model_poly = SVC(kernel='poly', degree=3, C=1, decision_function_shape='ovo').fit(X_train, Y_train)\r\n",
        "\r\n",
        "print(\"Temps mis pour entrainer le modèle :\", datetime.now() - t0)\r\n",
        "t0 = datetime.now()\r\n",
        "print(\"Train score:\", model_poly.score(X_train, Y_train), \"Durée:\", datetime.now() - t0)\r\n",
        "t0 = datetime.now()\r\n",
        "print(\"Test score:\", model_poly.score(X_test, Y_test), \"Durée:\", datetime.now() - t0)"
      ],
      "execution_count": null,
      "outputs": [
        {
          "output_type": "stream",
          "text": [
            "Temps mis pour entrainer le modèle : 0:00:00.817789\n",
            "Train score: 0.8246361377351793 Durée: 0:00:00.398302\n",
            "Test score: 0.7707594038325053 Durée: 0:00:00.096920\n"
          ],
          "name": "stdout"
        }
      ]
    },
    {
      "cell_type": "code",
      "metadata": {
        "id": "-oteVJaIAddt",
        "colab": {
          "base_uri": "https://localhost:8080/"
        },
        "outputId": "aeac37ed-7358-4b89-cba1-dbc17927e8b9"
      },
      "source": [
        "# Fonction Radial Basis Function (RBF) \r\n",
        "\r\n",
        "random.seed(50)\r\n",
        "\r\n",
        "t0 = datetime.now()\r\n",
        "\r\n",
        "model_rbf = SVC(kernel='rbf', gamma=1, C=1, decision_function_shape='ovo').fit(X_train, Y_train)\r\n",
        "\r\n",
        "print(\"Temps mis pour entrainer le modèle :\", datetime.now() - t0)\r\n",
        "t0 = datetime.now()\r\n",
        "print(\"Train score:\", model_rbf.score(X_train, Y_train), \"Durée:\", datetime.now() - t0)\r\n",
        "t0 = datetime.now()\r\n",
        "print(\"Test score:\", model_rbf.score(X_test, Y_test), \"Durée:\", datetime.now() - t0)"
      ],
      "execution_count": null,
      "outputs": [
        {
          "output_type": "stream",
          "text": [
            "Temps mis pour entrainer le modèle : 0:00:02.178116\n",
            "Train score: 0.9556265530706425 Durée: 0:00:01.375958\n",
            "Test score: 0.758694109297374 Durée: 0:00:00.343032\n"
          ],
          "name": "stdout"
        }
      ]
    },
    {
      "cell_type": "code",
      "metadata": {
        "colab": {
          "base_uri": "https://localhost:8080/"
        },
        "id": "Ix6AUf04Tbkb",
        "outputId": "9cb1231a-c369-43c3-aeb5-b0c43dbca0ef"
      },
      "source": [
        "# Fonction Sigmoid\r\n",
        "\r\n",
        "random.seed(60)\r\n",
        "\r\n",
        "t0 = datetime.now()\r\n",
        "\r\n",
        "model_sig = SVC(kernel='sigmoid', C=1, decision_function_shape='ovo').fit(X_train, Y_train)\r\n",
        "\r\n",
        "print(\"Temps mis pour entrainer le modèle :\", datetime.now() - t0)\r\n",
        "t0 = datetime.now()\r\n",
        "print(\"Train score:\", model_sig.score(X_train, Y_train), \"Durée:\", datetime.now() - t0)\r\n",
        "t0 = datetime.now()\r\n",
        "print(\"Test score:\", model_sig.score(X_test, Y_test), \"Durée:\", datetime.now() - t0)"
      ],
      "execution_count": null,
      "outputs": [
        {
          "output_type": "stream",
          "text": [
            "Temps mis pour entrainer le modèle : 0:00:01.195458\n",
            "Train score: 0.7080227192048278 Durée: 0:00:00.693966\n",
            "Test score: 0.7146912704045423 Durée: 0:00:00.173577\n"
          ],
          "name": "stdout"
        }
      ]
    },
    {
      "cell_type": "markdown",
      "metadata": {
        "id": "KV7Prvo-UgEa"
      },
      "source": [
        "#### **Remarque**\r\n",
        "<p align=\"justify\"> A l'issu de l'entrainement de quatres (04) modèles, la fonction non-linéaire RBF donne  la meilleure précision; soit 95%. Il est suivi de la fonction polynômiale (82%), et la fonction linéaire (78%). Le classifieur de la fonction sigmoïde est celle qui donne la plus faible précision soit 70%. Nous allons dans les étapes qui suivent, évaluer les modèles quatres modèles afin de choisir le meilleur.</p>"
      ]
    },
    {
      "cell_type": "markdown",
      "metadata": {
        "id": "YHORYE1rucx3"
      },
      "source": [
        "### **VI- EVALUATION DU MODÈLE**"
      ]
    },
    {
      "cell_type": "markdown",
      "metadata": {
        "id": "FtguUFx9nox6"
      },
      "source": [
        "##### MAtrices de confusion des classifieurs"
      ]
    },
    {
      "cell_type": "code",
      "metadata": {
        "colab": {
          "base_uri": "https://localhost:8080/"
        },
        "id": "4_fGkmHbWxFO",
        "outputId": "d96e922f-9ab8-4892-ef8e-3dcc1f6a9476"
      },
      "source": [
        "\r\n",
        "Y_pred_lin = model_poly.predict(X_test)\r\n",
        "Y_pred_poly = model_poly.predict(X_test)\r\n",
        "Y_pred_rbf = model_rbf.predict(X_test)\r\n",
        "Y_pred_sig = model_sig.predict(X_test)\r\n",
        "\r\n",
        "# creating a confusion matrix\r\n",
        "cm_lin = confusion_matrix(Y_test, Y_pred_lin)\r\n",
        "cm_poly = confusion_matrix(Y_test, Y_pred_poly)\r\n",
        "cm_rbf = confusion_matrix(Y_test, Y_pred_rbf)\r\n",
        "cm_sig = confusion_matrix(Y_test, Y_pred_sig)\r\n",
        "print(\"La mtrice de confusion du classifieur linéaire est :\\n\",cm_lin)\r\n",
        "print(\"\\n La mtrice de confusion du classifieur linéaire est :\\n\", cm_poly)\r\n",
        "print(\"\\n La mtrice de confusion du classifieur linéaire est :\\n\",cm_rbf)\r\n",
        "print(\"\\n La mtrice de confusion du classifieur linéaire est :\\n\",cm_sig)"
      ],
      "execution_count": null,
      "outputs": [
        {
          "output_type": "stream",
          "text": [
            "La mtrice de confusion du classifieur linéaire est :\n",
            " [[940  98]\n",
            " [225 146]]\n",
            "\n",
            " La mtrice de confusion du classifieur linéaire est :\n",
            " [[940  98]\n",
            " [225 146]]\n",
            "\n",
            " La mtrice de confusion du classifieur linéaire est :\n",
            " [[992  46]\n",
            " [294  77]]\n",
            "\n",
            " La mtrice de confusion du classifieur linéaire est :\n",
            " [[841 197]\n",
            " [205 166]]\n"
          ],
          "name": "stdout"
        }
      ]
    },
    {
      "cell_type": "markdown",
      "metadata": {
        "id": "iZzDFMTlqvHF"
      },
      "source": [
        "Ici, nous testons les modèles pour voir à quelle fréquence chacun classifie efficacement les clients."
      ]
    },
    {
      "cell_type": "code",
      "metadata": {
        "colab": {
          "base_uri": "https://localhost:8080/"
        },
        "id": "8-5HylYqqPkr",
        "outputId": "a5a605a0-5bce-4032-b203-73632b5b8b0f"
      },
      "source": [
        "#Importation de scikit-learn metrics pour calculer la précision\r\n",
        "from sklearn import metrics\r\n",
        "random.seed(70)\r\n",
        "# Précision du modèle: how often is the classifier correct?\r\n",
        "print(\"Precision du modèle linéaire:\",metrics.accuracy_score(Y_test, Y_pred_lin))\r\n",
        "print(\"Precision du modèle polynômiale:\",metrics.accuracy_score(Y_test, Y_pred_poly))\r\n",
        "print(\"Precision du modèle RBF:\",metrics.accuracy_score(Y_test, Y_pred_rbf))\r\n",
        "print(\"Precision du modèle sigmoïde:\",metrics.accuracy_score(Y_test, Y_pred_sig))"
      ],
      "execution_count": null,
      "outputs": [
        {
          "output_type": "stream",
          "text": [
            "Precision du modèle linéaire: 0.7707594038325053\n",
            "Precision du modèle polynômiale: 0.7707594038325053\n",
            "Precision du modèle RBF: 0.758694109297374\n",
            "Precision du modèle sigmoïde: 0.7146912704045423\n"
          ],
          "name": "stdout"
        }
      ]
    },
    {
      "cell_type": "markdown",
      "metadata": {
        "id": "myfQITz9XRn5"
      },
      "source": [
        "### **VII- VALIDATION DU MODELE**"
      ]
    },
    {
      "cell_type": "markdown",
      "metadata": {
        "id": "mV-JNvmfY3-c"
      },
      "source": [
        "<p align=\"justify\">En réexécutant n fois notre modèle de prédiction, il est évident que nous trouverons n différents score de précisions. En effet, juger la précision du modèle en se basant uniquement sur la seule précision donnée par un seul jeu d'apprentissage et un seul jeu test n'est pas assez pertinent. Pour faire mieux,nous allons faire une validation croisée à 10 blocks (10-folds cross-validation). Cela va consister à répartir le jeu d'entrainement en 10 parties et à entrainer le midèle à nouveau sur 9 blocks et réaliser le test sur le 10ième. Ainsi, nous aurons au total 10 scores de précison pour chaque classifieur. Ceci nous permet d'apprécier la variance ou la dispersion des différentes précisions et de choisir leur moyenne comme la précision finale. <p>"
      ]
    },
    {
      "cell_type": "code",
      "metadata": {
        "colab": {
          "base_uri": "https://localhost:8080/"
        },
        "id": "09UYoRZlyJfs",
        "outputId": "f0ac1850-d89f-4c3f-91ad-78cfff014f78"
      },
      "source": [
        "# Cross-validation pour le modèle linéaire\r\n",
        "random.seed(80)\r\n",
        "\r\n",
        "from sklearn.model_selection import cross_val_score\r\n",
        "model_lin = SVC(kernel='linear', C=1, random_state=42)\r\n",
        "scores_lin = cross_val_score(model_lin, X_train, Y_train, cv=10)\r\n",
        "print(\"Les précisons calculées sur les 10 blocks du jeu d'entrainement:\", scores)\r\n",
        "print(\"\\n La moyenne de ces 10 scores de précision nous donne une précision de %0.2f avec un écart-type de %0.2f.\" % (scores.mean(), scores.std()))"
      ],
      "execution_count": null,
      "outputs": [
        {
          "output_type": "stream",
          "text": [
            "Les précisons calculées sur les 10 blocks du jeu d'entrainement: [0.72 0.72 0.71 0.68 0.73 0.72 0.67 0.72 0.71 0.7 ]\n",
            "\n",
            " La moyenne de ces 10 scores de précision nous donne une précision de 0.71 avec un écart-type de 0.02.\n"
          ],
          "name": "stdout"
        }
      ]
    },
    {
      "cell_type": "code",
      "metadata": {
        "colab": {
          "base_uri": "https://localhost:8080/"
        },
        "id": "wg6LI7FwD0DW",
        "outputId": "bb62e5a4-7e4e-4ade-a257-ecd8f1e15c67"
      },
      "source": [
        "# Cross-validation pour le modèle polynôme\r\n",
        "random.seed(90)\r\n",
        "\r\n",
        "from sklearn.model_selection import cross_val_score\r\n",
        "model_poly = SVC(kernel='poly', C=1, random_state=42)\r\n",
        "scores_poly = cross_val_score(model_poly, X_train, Y_train, cv=10)\r\n",
        "print(\"Les précisons calculées sur les 10 blocks du jeu d'entrainement:\", scores)\r\n",
        "print(\"\\n La moyenne de ces 10 scores de précision nous donne une précision de %0.2f avec un écart-type de %0.2f.\" % (scores.mean(), scores.std()))"
      ],
      "execution_count": 81,
      "outputs": [
        {
          "output_type": "stream",
          "text": [
            "Les précisons calculées sur les 10 blocks du jeu d'entrainement: [0.72 0.72 0.71 0.68 0.73 0.72 0.67 0.72 0.71 0.7 ]\n",
            "\n",
            " La moyenne de ces 10 scores de précision nous donne une précision de 0.71 avec un écart-type de 0.02.\n"
          ],
          "name": "stdout"
        }
      ]
    },
    {
      "cell_type": "code",
      "metadata": {
        "colab": {
          "base_uri": "https://localhost:8080/"
        },
        "id": "xu5j4BKifEIq",
        "outputId": "4c6dafa9-a34f-4df2-fd4a-7efbde0eab3b"
      },
      "source": [
        "# Cross-validation pour le modèle RBF\r\n",
        "random.seed(100)\r\n",
        "\r\n",
        "from sklearn.model_selection import cross_val_score\r\n",
        "model_rbf = SVC(kernel='rbf', C=1, random_state=42)\r\n",
        "scores_rbf = cross_val_score(model_rbf, X_train, Y_train, cv=10)\r\n",
        "print(\"Les précisons calculées sur les 10 blocks du jeu d'entrainement:\", scores)\r\n",
        "print(\"\\n La moyenne de ces 10 scores de précision nous donne une précision de %0.2f avec un écart-type de %0.2f.\" % (scores.mean(), scores.std()))"
      ],
      "execution_count": 82,
      "outputs": [
        {
          "output_type": "stream",
          "text": [
            "Les précisons calculées sur les 10 blocks du jeu d'entrainement: [0.72 0.72 0.71 0.68 0.73 0.72 0.67 0.72 0.71 0.7 ]\n",
            "\n",
            " La moyenne de ces 10 scores de précision nous donne une précision de 0.71 avec un écart-type de 0.02.\n"
          ],
          "name": "stdout"
        }
      ]
    },
    {
      "cell_type": "code",
      "metadata": {
        "colab": {
          "base_uri": "https://localhost:8080/"
        },
        "id": "J8ff7aGhfSQA",
        "outputId": "903f7f6f-595d-49a6-c73c-26f45926cee7"
      },
      "source": [
        "# Cross-validation pour le modèle sigmoide\r\n",
        "random.seed(110)\r\n",
        "\r\n",
        "from sklearn.model_selection import cross_val_score\r\n",
        "model_sig = SVC(kernel='sigmoid', C=1, random_state=42)\r\n",
        "scores_sig = cross_val_score(model_sig, X_train, Y_train, cv=10)\r\n",
        "print(\"Les précisons calculées sur les 10 blocks du jeu d'entrainement:\", scores)\r\n",
        "print(\"\\n La moyenne de ces 10 scores de précision nous donne une précision de %0.2f avec un écart-type de %0.2f.\" % (scores.mean(), scores.std()))"
      ],
      "execution_count": null,
      "outputs": [
        {
          "output_type": "stream",
          "text": [
            "Les précisons calculées sur les 10 blocks du jeu d'entrainement: [0.72 0.72 0.71 0.68 0.73 0.72 0.67 0.72 0.71 0.7 ]\n",
            "\n",
            " La moyenne de ces 10 scores de précision nous donne une précision de 0.71 avec un écart-type de 0.02.\n"
          ],
          "name": "stdout"
        }
      ]
    },
    {
      "cell_type": "markdown",
      "metadata": {
        "id": "7QSZX8kYwSce"
      },
      "source": [
        "#### Resumé des validation croisées"
      ]
    },
    {
      "cell_type": "code",
      "metadata": {
        "colab": {
          "base_uri": "https://localhost:8080/"
        },
        "id": "_EuTwbSTsNYd",
        "outputId": "74e6d240-b955-4ecb-d664-dab796a04e52"
      },
      "source": [
        "print(\"\\n La précision moyenne du modèle linéaire : %0.2f, (écart-type de %0.2f.).\" % (scores.mean(), scores.std()))\r\n",
        "print(\"\\n La précision moyenne du modèle plynômiale : %0.2f, (écart-type de %0.2f.).\" % (scores.mean(), scores.std()))\r\n",
        "print(\"\\n La précision moyenne du modèle RBF : %0.2f, (écart-type de %0.2f.).\" % (scores.mean(), scores.std()))\r\n",
        "print(\"\\n La précision moyenne du modèle sigmoïde : %0.2f, (écart-type de %0.2f.).\" % (scores.mean(), scores.std()))"
      ],
      "execution_count": null,
      "outputs": [
        {
          "output_type": "stream",
          "text": [
            "\n",
            " La précision moyenne du modèle linéaire : 0.71, (écart-type de 0.02.).\n",
            "\n",
            " La précision moyenne du modèle plynômiale : 0.71, (écart-type de 0.02.).\n",
            "\n",
            " La précision moyenne du modèle RBF : 0.71, (écart-type de 0.02.).\n",
            "\n",
            " La précision moyenne du modèle sigmoïde : 0.71, (écart-type de 0.02.).\n"
          ],
          "name": "stdout"
        }
      ]
    },
    {
      "cell_type": "markdown",
      "metadata": {
        "id": "STsOQpsfE5iN"
      },
      "source": [
        "### **CONCLUSION**"
      ]
    },
    {
      "cell_type": "markdown",
      "metadata": {
        "id": "u8URAitYhFOa"
      },
      "source": [
        "<p align=\"justfy\">En somme, nous avons dans le cadre de ce projet réalisé une classification des clients de la compagnie IBM sur la base de l'algorithme des SVM et de la bibliothèque Scikit-learn intégrée au language python. Nous avons pris en compte dans la modélisation, les quatres principales fonctions des SVM (Kernel functions) afin de voir laquelle classifie mieux les clients. En effet,le classifieur non-linéaire RBF a donné la plus grande précision de 95%.  <p> <p align=\"justfy\">Cependant en calculant la précison sur les modèles de prédiction Les classifieurs linéaires et polynômiales classifient avec une précision identique de 77%. Pour valider enfin le modèle, nous avons effectué une validation-croisée à 10 blocks sur chaque classifieur. Ce qui nous a permis d'avoir une précision moyenne de 71% avec un écart-type de 0.02 sur chaque classifieur. Etant donné les précisons issues de la validation croisée sont identiques pour les quatres modèles, nous comptons retenir le classifieur polynômiale en raison du fait qu'il a le temps d'exécusion la plus minimale possible. En général, on peut dire que le modèle retenu est bon; mais il reste perfectible. Autrement, dans la continuité de ce projet, des techniques poussées d'optimisation seront mis en exergue afin de rendre plus optimale la précision du modèle.<p>"
      ]
    }
  ]
}