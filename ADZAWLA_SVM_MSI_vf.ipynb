{
  "nbformat": 4,
  "nbformat_minor": 0,
  "metadata": {
    "colab": {
      "name": "Copy of ADZAWLA_SVM_MSI-vf.ipynb",
      "provenance": [],
      "collapsed_sections": [],
      "toc_visible": true,
      "authorship_tag": "ABX9TyPTqefsfHQ3z3Ipqa5a8FRK",
      "include_colab_link": true
    },
    "kernelspec": {
      "name": "python3",
      "display_name": "Python 3"
    }
  },
  "cells": [
    {
      "cell_type": "markdown",
      "metadata": {
        "id": "view-in-github",
        "colab_type": "text"
      },
      "source": [
        "<a href=\"https://colab.research.google.com/github/Adzawla/monBlog/blob/master/ADZAWLA_SVM_MSI_vf.ipynb\" target=\"_parent\"><img src=\"https://colab.research.google.com/assets/colab-badge.svg\" alt=\"Open In Colab\"/></a>"
      ]
    },
    {
      "cell_type": "markdown",
      "metadata": {
        "id": "Slmq2WQyWzEG"
      },
      "source": [
        "**INTRODUCTION**"
      ]
    },
    {
      "cell_type": "markdown",
      "metadata": {
        "id": "BDpyVtG0W4hJ"
      },
      "source": [
        "<p align=\"justify\"> L'algorithme des SVM n'est pas nouveaux. Même s'il semble être dominé par la présence actuelle des Réseaux de neurones artificiels, les SVM demeurent toujours un puissant \r\n",
        "outil de classification en raison de sa performance dans plusieurs cas pratiques et surtout de leur capacité à ne pas surapprendre (overfiting). Pour illustrer cela, nous proposons de réaliser dans le cadre de ce projet un apprentissage supervisé basé sur un jeu de données massif \r\n",
        "qui décrit les caractéristiques ou habitudes de consommation des clients de l' International Business Machines Corporation (IBM), une multinationle américaine basée à Armonk, New York et spécialisée dans la technologique.\r\n"
      ]
    },
    {
      "cell_type": "markdown",
      "metadata": {
        "id": "cpZzm1bRYHM6"
      },
      "source": [
        "### **I - DEFINITION DU PROBLEME**"
      ]
    },
    {
      "cell_type": "markdown",
      "metadata": {
        "id": "YDx_87vUXyJT"
      },
      "source": [
        "<p align=\"justify\"> Face à la complexité des besoins et les exigences sans cesse croissantes des clients recherchant des solutions efficaces et rapides\r\n",
        "pour la satisfaction de leurs besoins, l'entreprise moderne est appélée à se réinventer et à innover par la mise en place de stratégies, plaçant le client au centre des préoccupations.\r\n",
        "En effet, Le CRM ou encore la Gestion de la Relation Client (Customer Relationship Management) est devenu désormais un élément clé des stratégies de marketing modernes. Il est définie comme une stratégie de gestion des relations et interactions d'une entreprise avec ses clients ou clients potentiels.</p>\r\n",
        "\r\n",
        "<p align=\"justify\">Il aide les entreprises à interagir en permanence avec les clients, à rationaliser leurs processus et à améliorer leur rentabilité.</p>\r\n",
        "\r\n",
        "<p align=\"justify\">Techniquement le CRM consiste à construire un score synthétique à partir des variables décrivant les aptitudes et comportement d'achat du client, dans le but de mieux connaitre ce dernier. En effet, grâce au score calculé on peut par exemple déterminer le taux de départ ou d'attrition d'un client ou encore \r\n",
        "sa propension à acheter un produit ou service.\r\n",
        "Dans le cadre de ce projet, notre principale activité consistera à réaliser une classification binaire des clients, selon leur propension de quitter ou pas la compagnie. La finalité de cette démarche est de permettre à l'entreprise de cibler les clients qui présente une forte probabilité de se désabonner de l'entreprise afin de mettre en place une stratégie de fidélisation qui les empêchera de partir. </p>"
      ]
    },
    {
      "cell_type": "markdown",
      "metadata": {
        "id": "6JRibSQ3avLj"
      },
      "source": [
        "### **II - DONNEES**"
      ]
    },
    {
      "cell_type": "markdown",
      "metadata": {
        "id": "2ZZAskQ8bVAW"
      },
      "source": [
        "- Source de données : https://www.kaggle.com/blastchar/telco-customer-churn\r\n",
        "        \r\n",
        "- Le fichier de données est nommé WA_Fn-UseC_-Telco-Customer-Churn.csv. Il contient 7043 observations et 21 variables .\r\n",
        "\r\n",
        "- Les variables décrivent les traits caractéristiques ou habitudes de consommation des clients et sont définies comme suit:\r\n",
        "\r\n",
        "|Variables        |      description                       |\r\n",
        "|-----------------|----------------------------------------|\r\n",
        "|customerID       | Numero d'identification du client|\r\n",
        "|Gender           | Le genre du client|\r\n",
        "|SeniorCitizen    | Le citoyen est un senior ou non|\r\n",
        "|Partner          | Le client a partenaire ou non |\r\n",
        "|Dependents       | Le client a des personnes à charges ou non|\r\n",
        "|Tenure           | Le nombre de mois effectué avec la compagnie|\r\n",
        "|PhoneService     | Le client bénéficie ou non des servics téléphonique|\r\n",
        "|MultipleLines    | Le client utilise plusieurs réseaux de communication ou non |\r\n",
        "|InternetService  | Le client a bénéficie de services internet DSL, Fibre optique ou non |\r\n",
        "|OnlineSecurity   | Le client a t-il un dispositif de sécurité internet ou non|\r\n",
        "|OnlineBackup     | Le client dispose d'un Stockage en ligne ou non|\r\n",
        "|DeviceProtection | Le client dispose ou non d'un dispositif de protection|\r\n",
        "|TechSupport      | Le client dispose d'une assistance technique ou non|\r\n",
        "|StreamingTV      | Le client dispose ou non d'une télévision en continu |\r\n",
        "|StreamingMovies  | Le client a des films en streaming ou non|\r\n",
        "|Contract         | La durée du contrat du client |\r\n",
        "|PaperlessBilling | Le client a une facturation sans papier ou non |\r\n",
        "|PaymentMethod    | Le mode de paiement du client|\r\n",
        "|MonthlyCharges   | Le montant facturé au client chaque mois|\r\n",
        "|TotalCharges     | Le montant total facturé au client|\r\n",
        "|Churn            | Si le client s'est désabonné (parti) ou non.|\r\n",
        "\r\n"
      ]
    },
    {
      "cell_type": "markdown",
      "metadata": {
        "id": "Sv1lueZ0FF2K"
      },
      "source": [
        "### **MANIPULATION DES DONNEES**"
      ]
    },
    {
      "cell_type": "code",
      "metadata": {
        "id": "TVtqUF7xtcMR"
      },
      "source": [
        "#Chargement des bibliothèques\r\n",
        "\r\n",
        "import pandas as pd\r\n",
        "import numpy as np\r\n",
        "from sklearn import metrics\r\n",
        "import seaborn as sns\r\n",
        "from sklearn.metrics import roc_curve\r\n",
        "from sklearn.metrics import auc\r\n",
        "from sklearn.utils import resample\r\n",
        "from sklearn.manifold import TSNE\r\n",
        "from sklearn import decomposition\r\n",
        "from sklearn.model_selection import RandomizedSearchCV\r\n",
        "from sklearn.linear_model import LogisticRegression\r\n",
        "from sklearn.tree import DecisionTreeClassifier\r\n",
        "from sklearn.calibration import CalibratedClassifierCV\r\n",
        "from sklearn.linear_model import SGDClassifier\r\n",
        "from sklearn.ensemble import RandomForestClassifier\r\n",
        "from xgboost import XGBClassifier\r\n",
        "from sklearn import preprocessing\r\n",
        "from sklearn.metrics import confusion_matrix\r\n",
        "from datetime import datetime as dt\r\n",
        "from sklearn.model_selection import train_test_split\r\n",
        "import matplotlib.pyplot as plt\r\n",
        "rand_state=123\r\n",
        "%matplotlib inline\r\n",
        "import warnings\r\n",
        "warnings.filterwarnings(\"ignore\")\r\n",
        "import pandas_profiling\r\n",
        "\r\n",
        "from sklearn.utils import shuffle\r\n",
        "from sklearn.preprocessing import StandardScaler"
      ],
      "execution_count": 1,
      "outputs": []
    },
    {
      "cell_type": "code",
      "metadata": {
        "id": "jvqBoI1ttl_s"
      },
      "source": [
        "# Importation de la base de données\r\n",
        "\r\n",
        "df=pd.read_csv(\"Telco-Customer-Churn.csv\")\r\n",
        "#print('La base contient %s observations et %s variables' %(df.shape))"
      ],
      "execution_count": 4,
      "outputs": []
    },
    {
      "cell_type": "code",
      "metadata": {
        "colab": {
          "base_uri": "https://localhost:8080/",
          "height": 414
        },
        "id": "K4pDIzp4vz9P",
        "outputId": "a1338c13-c199-4a8b-f8c9-3dabab9a49b8"
      },
      "source": [
        "print(df.columns)\r\n",
        "\r\n",
        "df=shuffle(df)\r\n",
        "\r\n",
        "df.head()"
      ],
      "execution_count": 5,
      "outputs": [
        {
          "output_type": "stream",
          "text": [
            "Index(['customerID', 'gender', 'SeniorCitizen', 'Partner', 'Dependents',\n",
            "       'tenure', 'PhoneService', 'MultipleLines', 'InternetService',\n",
            "       'OnlineSecurity', 'OnlineBackup', 'DeviceProtection', 'TechSupport',\n",
            "       'StreamingTV', 'StreamingMovies', 'Contract', 'PaperlessBilling',\n",
            "       'PaymentMethod', 'MonthlyCharges', 'TotalCharges', 'Churn'],\n",
            "      dtype='object')\n"
          ],
          "name": "stdout"
        },
        {
          "output_type": "execute_result",
          "data": {
            "text/html": [
              "<div>\n",
              "<style scoped>\n",
              "    .dataframe tbody tr th:only-of-type {\n",
              "        vertical-align: middle;\n",
              "    }\n",
              "\n",
              "    .dataframe tbody tr th {\n",
              "        vertical-align: top;\n",
              "    }\n",
              "\n",
              "    .dataframe thead th {\n",
              "        text-align: right;\n",
              "    }\n",
              "</style>\n",
              "<table border=\"1\" class=\"dataframe\">\n",
              "  <thead>\n",
              "    <tr style=\"text-align: right;\">\n",
              "      <th></th>\n",
              "      <th>customerID</th>\n",
              "      <th>gender</th>\n",
              "      <th>SeniorCitizen</th>\n",
              "      <th>Partner</th>\n",
              "      <th>Dependents</th>\n",
              "      <th>tenure</th>\n",
              "      <th>PhoneService</th>\n",
              "      <th>MultipleLines</th>\n",
              "      <th>InternetService</th>\n",
              "      <th>OnlineSecurity</th>\n",
              "      <th>OnlineBackup</th>\n",
              "      <th>DeviceProtection</th>\n",
              "      <th>TechSupport</th>\n",
              "      <th>StreamingTV</th>\n",
              "      <th>StreamingMovies</th>\n",
              "      <th>Contract</th>\n",
              "      <th>PaperlessBilling</th>\n",
              "      <th>PaymentMethod</th>\n",
              "      <th>MonthlyCharges</th>\n",
              "      <th>TotalCharges</th>\n",
              "      <th>Churn</th>\n",
              "    </tr>\n",
              "  </thead>\n",
              "  <tbody>\n",
              "    <tr>\n",
              "      <th>6654</th>\n",
              "      <td>1925-TIBLE</td>\n",
              "      <td>Female</td>\n",
              "      <td>0</td>\n",
              "      <td>Yes</td>\n",
              "      <td>No</td>\n",
              "      <td>7</td>\n",
              "      <td>Yes</td>\n",
              "      <td>Yes</td>\n",
              "      <td>Fiber optic</td>\n",
              "      <td>No</td>\n",
              "      <td>No</td>\n",
              "      <td>No</td>\n",
              "      <td>No</td>\n",
              "      <td>Yes</td>\n",
              "      <td>No</td>\n",
              "      <td>Month-to-month</td>\n",
              "      <td>Yes</td>\n",
              "      <td>Electronic check</td>\n",
              "      <td>86.50</td>\n",
              "      <td>582.5</td>\n",
              "      <td>Yes</td>\n",
              "    </tr>\n",
              "    <tr>\n",
              "      <th>1501</th>\n",
              "      <td>5014-GSOUQ</td>\n",
              "      <td>Male</td>\n",
              "      <td>0</td>\n",
              "      <td>No</td>\n",
              "      <td>No</td>\n",
              "      <td>13</td>\n",
              "      <td>Yes</td>\n",
              "      <td>No</td>\n",
              "      <td>No</td>\n",
              "      <td>No internet service</td>\n",
              "      <td>No internet service</td>\n",
              "      <td>No internet service</td>\n",
              "      <td>No internet service</td>\n",
              "      <td>No internet service</td>\n",
              "      <td>No internet service</td>\n",
              "      <td>Two year</td>\n",
              "      <td>No</td>\n",
              "      <td>Mailed check</td>\n",
              "      <td>19.95</td>\n",
              "      <td>243.65</td>\n",
              "      <td>No</td>\n",
              "    </tr>\n",
              "    <tr>\n",
              "      <th>4825</th>\n",
              "      <td>0921-OHLVP</td>\n",
              "      <td>Male</td>\n",
              "      <td>0</td>\n",
              "      <td>No</td>\n",
              "      <td>No</td>\n",
              "      <td>22</td>\n",
              "      <td>Yes</td>\n",
              "      <td>Yes</td>\n",
              "      <td>Fiber optic</td>\n",
              "      <td>No</td>\n",
              "      <td>No</td>\n",
              "      <td>No</td>\n",
              "      <td>No</td>\n",
              "      <td>No</td>\n",
              "      <td>Yes</td>\n",
              "      <td>Month-to-month</td>\n",
              "      <td>No</td>\n",
              "      <td>Electronic check</td>\n",
              "      <td>83.05</td>\n",
              "      <td>1799.3</td>\n",
              "      <td>No</td>\n",
              "    </tr>\n",
              "    <tr>\n",
              "      <th>2730</th>\n",
              "      <td>1169-SAOCL</td>\n",
              "      <td>Male</td>\n",
              "      <td>0</td>\n",
              "      <td>No</td>\n",
              "      <td>No</td>\n",
              "      <td>49</td>\n",
              "      <td>Yes</td>\n",
              "      <td>Yes</td>\n",
              "      <td>Fiber optic</td>\n",
              "      <td>No</td>\n",
              "      <td>Yes</td>\n",
              "      <td>No</td>\n",
              "      <td>Yes</td>\n",
              "      <td>Yes</td>\n",
              "      <td>Yes</td>\n",
              "      <td>One year</td>\n",
              "      <td>Yes</td>\n",
              "      <td>Bank transfer (automatic)</td>\n",
              "      <td>106.65</td>\n",
              "      <td>5168.1</td>\n",
              "      <td>No</td>\n",
              "    </tr>\n",
              "    <tr>\n",
              "      <th>4652</th>\n",
              "      <td>3178-CIFOT</td>\n",
              "      <td>Female</td>\n",
              "      <td>0</td>\n",
              "      <td>No</td>\n",
              "      <td>No</td>\n",
              "      <td>23</td>\n",
              "      <td>Yes</td>\n",
              "      <td>No</td>\n",
              "      <td>No</td>\n",
              "      <td>No internet service</td>\n",
              "      <td>No internet service</td>\n",
              "      <td>No internet service</td>\n",
              "      <td>No internet service</td>\n",
              "      <td>No internet service</td>\n",
              "      <td>No internet service</td>\n",
              "      <td>One year</td>\n",
              "      <td>Yes</td>\n",
              "      <td>Credit card (automatic)</td>\n",
              "      <td>19.65</td>\n",
              "      <td>478.1</td>\n",
              "      <td>No</td>\n",
              "    </tr>\n",
              "  </tbody>\n",
              "</table>\n",
              "</div>"
            ],
            "text/plain": [
              "      customerID  gender  SeniorCitizen  ... MonthlyCharges TotalCharges  Churn\n",
              "6654  1925-TIBLE  Female              0  ...          86.50        582.5    Yes\n",
              "1501  5014-GSOUQ    Male              0  ...          19.95       243.65     No\n",
              "4825  0921-OHLVP    Male              0  ...          83.05       1799.3     No\n",
              "2730  1169-SAOCL    Male              0  ...         106.65       5168.1     No\n",
              "4652  3178-CIFOT  Female              0  ...          19.65        478.1     No\n",
              "\n",
              "[5 rows x 21 columns]"
            ]
          },
          "metadata": {
            "tags": []
          },
          "execution_count": 5
        }
      ]
    },
    {
      "cell_type": "code",
      "metadata": {
        "colab": {
          "base_uri": "https://localhost:8080/"
        },
        "id": "bIWzffWVv5_G",
        "outputId": "d87a5595-c8bd-448f-9177-c0265b3da4ae"
      },
      "source": [
        "df.isnull().sum(axis=0)"
      ],
      "execution_count": 6,
      "outputs": [
        {
          "output_type": "execute_result",
          "data": {
            "text/plain": [
              "customerID          0\n",
              "gender              0\n",
              "SeniorCitizen       0\n",
              "Partner             0\n",
              "Dependents          0\n",
              "tenure              0\n",
              "PhoneService        0\n",
              "MultipleLines       0\n",
              "InternetService     0\n",
              "OnlineSecurity      0\n",
              "OnlineBackup        0\n",
              "DeviceProtection    0\n",
              "TechSupport         0\n",
              "StreamingTV         0\n",
              "StreamingMovies     0\n",
              "Contract            0\n",
              "PaperlessBilling    0\n",
              "PaymentMethod       0\n",
              "MonthlyCharges      0\n",
              "TotalCharges        0\n",
              "Churn               0\n",
              "dtype: int64"
            ]
          },
          "metadata": {
            "tags": []
          },
          "execution_count": 6
        }
      ]
    },
    {
      "cell_type": "code",
      "metadata": {
        "colab": {
          "base_uri": "https://localhost:8080/",
          "height": 323
        },
        "id": "h2P1YKipwId_",
        "outputId": "33f8e9db-d5fe-4d8f-dbe7-646d222f1fda"
      },
      "source": [
        "#Removing missing values \r\n",
        "df.dropna(inplace = True)\r\n",
        "\r\n",
        "#Remove customer IDs from the data set\r\n",
        "\r\n",
        "df2 = df.iloc[:,1:]\r\n",
        "\r\n",
        "#Convertin the predictor variable in a binary numeric variable\r\n",
        "df2['Churn'].replace(to_replace='Yes', value=1, inplace=True)\r\n",
        "df2['Churn'].replace(to_replace='No',  value=0, inplace=True)\r\n",
        "\r\n",
        "print(df2.shape)\r\n",
        "\r\n",
        "df2.head()"
      ],
      "execution_count": 7,
      "outputs": [
        {
          "output_type": "stream",
          "text": [
            "(7043, 20)\n"
          ],
          "name": "stdout"
        },
        {
          "output_type": "execute_result",
          "data": {
            "text/html": [
              "<div>\n",
              "<style scoped>\n",
              "    .dataframe tbody tr th:only-of-type {\n",
              "        vertical-align: middle;\n",
              "    }\n",
              "\n",
              "    .dataframe tbody tr th {\n",
              "        vertical-align: top;\n",
              "    }\n",
              "\n",
              "    .dataframe thead th {\n",
              "        text-align: right;\n",
              "    }\n",
              "</style>\n",
              "<table border=\"1\" class=\"dataframe\">\n",
              "  <thead>\n",
              "    <tr style=\"text-align: right;\">\n",
              "      <th></th>\n",
              "      <th>gender</th>\n",
              "      <th>SeniorCitizen</th>\n",
              "      <th>Partner</th>\n",
              "      <th>Dependents</th>\n",
              "      <th>tenure</th>\n",
              "      <th>PhoneService</th>\n",
              "      <th>MultipleLines</th>\n",
              "      <th>InternetService</th>\n",
              "      <th>OnlineSecurity</th>\n",
              "      <th>OnlineBackup</th>\n",
              "      <th>DeviceProtection</th>\n",
              "      <th>TechSupport</th>\n",
              "      <th>StreamingTV</th>\n",
              "      <th>StreamingMovies</th>\n",
              "      <th>Contract</th>\n",
              "      <th>PaperlessBilling</th>\n",
              "      <th>PaymentMethod</th>\n",
              "      <th>MonthlyCharges</th>\n",
              "      <th>TotalCharges</th>\n",
              "      <th>Churn</th>\n",
              "    </tr>\n",
              "  </thead>\n",
              "  <tbody>\n",
              "    <tr>\n",
              "      <th>6654</th>\n",
              "      <td>Female</td>\n",
              "      <td>0</td>\n",
              "      <td>Yes</td>\n",
              "      <td>No</td>\n",
              "      <td>7</td>\n",
              "      <td>Yes</td>\n",
              "      <td>Yes</td>\n",
              "      <td>Fiber optic</td>\n",
              "      <td>No</td>\n",
              "      <td>No</td>\n",
              "      <td>No</td>\n",
              "      <td>No</td>\n",
              "      <td>Yes</td>\n",
              "      <td>No</td>\n",
              "      <td>Month-to-month</td>\n",
              "      <td>Yes</td>\n",
              "      <td>Electronic check</td>\n",
              "      <td>86.50</td>\n",
              "      <td>582.5</td>\n",
              "      <td>1</td>\n",
              "    </tr>\n",
              "    <tr>\n",
              "      <th>1501</th>\n",
              "      <td>Male</td>\n",
              "      <td>0</td>\n",
              "      <td>No</td>\n",
              "      <td>No</td>\n",
              "      <td>13</td>\n",
              "      <td>Yes</td>\n",
              "      <td>No</td>\n",
              "      <td>No</td>\n",
              "      <td>No internet service</td>\n",
              "      <td>No internet service</td>\n",
              "      <td>No internet service</td>\n",
              "      <td>No internet service</td>\n",
              "      <td>No internet service</td>\n",
              "      <td>No internet service</td>\n",
              "      <td>Two year</td>\n",
              "      <td>No</td>\n",
              "      <td>Mailed check</td>\n",
              "      <td>19.95</td>\n",
              "      <td>243.65</td>\n",
              "      <td>0</td>\n",
              "    </tr>\n",
              "    <tr>\n",
              "      <th>4825</th>\n",
              "      <td>Male</td>\n",
              "      <td>0</td>\n",
              "      <td>No</td>\n",
              "      <td>No</td>\n",
              "      <td>22</td>\n",
              "      <td>Yes</td>\n",
              "      <td>Yes</td>\n",
              "      <td>Fiber optic</td>\n",
              "      <td>No</td>\n",
              "      <td>No</td>\n",
              "      <td>No</td>\n",
              "      <td>No</td>\n",
              "      <td>No</td>\n",
              "      <td>Yes</td>\n",
              "      <td>Month-to-month</td>\n",
              "      <td>No</td>\n",
              "      <td>Electronic check</td>\n",
              "      <td>83.05</td>\n",
              "      <td>1799.3</td>\n",
              "      <td>0</td>\n",
              "    </tr>\n",
              "    <tr>\n",
              "      <th>2730</th>\n",
              "      <td>Male</td>\n",
              "      <td>0</td>\n",
              "      <td>No</td>\n",
              "      <td>No</td>\n",
              "      <td>49</td>\n",
              "      <td>Yes</td>\n",
              "      <td>Yes</td>\n",
              "      <td>Fiber optic</td>\n",
              "      <td>No</td>\n",
              "      <td>Yes</td>\n",
              "      <td>No</td>\n",
              "      <td>Yes</td>\n",
              "      <td>Yes</td>\n",
              "      <td>Yes</td>\n",
              "      <td>One year</td>\n",
              "      <td>Yes</td>\n",
              "      <td>Bank transfer (automatic)</td>\n",
              "      <td>106.65</td>\n",
              "      <td>5168.1</td>\n",
              "      <td>0</td>\n",
              "    </tr>\n",
              "    <tr>\n",
              "      <th>4652</th>\n",
              "      <td>Female</td>\n",
              "      <td>0</td>\n",
              "      <td>No</td>\n",
              "      <td>No</td>\n",
              "      <td>23</td>\n",
              "      <td>Yes</td>\n",
              "      <td>No</td>\n",
              "      <td>No</td>\n",
              "      <td>No internet service</td>\n",
              "      <td>No internet service</td>\n",
              "      <td>No internet service</td>\n",
              "      <td>No internet service</td>\n",
              "      <td>No internet service</td>\n",
              "      <td>No internet service</td>\n",
              "      <td>One year</td>\n",
              "      <td>Yes</td>\n",
              "      <td>Credit card (automatic)</td>\n",
              "      <td>19.65</td>\n",
              "      <td>478.1</td>\n",
              "      <td>0</td>\n",
              "    </tr>\n",
              "  </tbody>\n",
              "</table>\n",
              "</div>"
            ],
            "text/plain": [
              "      gender  SeniorCitizen Partner  ... MonthlyCharges  TotalCharges Churn\n",
              "6654  Female              0     Yes  ...          86.50         582.5     1\n",
              "1501    Male              0      No  ...          19.95        243.65     0\n",
              "4825    Male              0      No  ...          83.05        1799.3     0\n",
              "2730    Male              0      No  ...         106.65        5168.1     0\n",
              "4652  Female              0      No  ...          19.65         478.1     0\n",
              "\n",
              "[5 rows x 20 columns]"
            ]
          },
          "metadata": {
            "tags": []
          },
          "execution_count": 7
        }
      ]
    },
    {
      "cell_type": "code",
      "metadata": {
        "id": "vY3-xDNmDldR"
      },
      "source": [
        "# Identification du types des donnees\r\n",
        "\r\n",
        "dfVars = df2.columns\r\n",
        "data_types = {Var: df2[Var].dtype for Var in dfVars}\r\n",
        "\r\n",
        "for Var in dfVars:\r\n",
        "    if data_types[Var] == int:\r\n",
        "        x = df2[Var].astype(float)\r\n",
        "        df.loc[:, Var] = x\r\n",
        "        data_types[Var] = x.dtype\r\n",
        "    elif data_types[Var] != float:\r\n",
        "        x = df2[Var].astype('category')\r\n",
        "        df2.loc[:, Var] = x\r\n",
        "        data_types[Var] = x.dtype"
      ],
      "execution_count": 8,
      "outputs": []
    },
    {
      "cell_type": "code",
      "metadata": {
        "colab": {
          "base_uri": "https://localhost:8080/"
        },
        "id": "pNJsjauoDtG6",
        "outputId": "83369b96-30cd-468e-ec5d-5068fc03fcd3"
      },
      "source": [
        "float_dfVars = [Var for Var in dfVars\r\n",
        "                     if data_types[Var] != float]\r\n",
        "float_dfVars"
      ],
      "execution_count": 9,
      "outputs": [
        {
          "output_type": "execute_result",
          "data": {
            "text/plain": [
              "['gender',\n",
              " 'Partner',\n",
              " 'Dependents',\n",
              " 'PhoneService',\n",
              " 'MultipleLines',\n",
              " 'InternetService',\n",
              " 'OnlineSecurity',\n",
              " 'OnlineBackup',\n",
              " 'DeviceProtection',\n",
              " 'TechSupport',\n",
              " 'StreamingTV',\n",
              " 'StreamingMovies',\n",
              " 'Contract',\n",
              " 'PaperlessBilling',\n",
              " 'PaymentMethod',\n",
              " 'TotalCharges']"
            ]
          },
          "metadata": {
            "tags": []
          },
          "execution_count": 9
        }
      ]
    },
    {
      "cell_type": "code",
      "metadata": {
        "id": "7ZxqSATYkHmI"
      },
      "source": [
        "# Partageons le jeux de données entre variables dependates et variables independantes\r\n",
        "\r\n",
        "X=df2.iloc[:,0:19].astype(str)\r\n",
        "Y=df2.iloc[:,19].astype(str)"
      ],
      "execution_count": 10,
      "outputs": []
    },
    {
      "cell_type": "code",
      "metadata": {
        "id": "w5RxxCciEKzY"
      },
      "source": [
        "### Spliting the dataset into training set and test set\r\n",
        "from sklearn.model_selection import train_test_split\r\n",
        "X_train, X_test, Y_train, Y_test = train_test_split(X,Y, test_size=0.2, random_state=0)\r\n"
      ],
      "execution_count": 11,
      "outputs": []
    },
    {
      "cell_type": "code",
      "metadata": {
        "id": "IHn2eu0aL3bp"
      },
      "source": [
        "# one-hot encode input variables\r\n",
        "from sklearn.preprocessing import LabelEncoder\r\n",
        "from sklearn.preprocessing import OrdinalEncoder\r\n",
        "np.set_printoptions(precision=2)\r\n",
        "np.set_printoptions(suppress=True)\r\n",
        "\r\n",
        "ordinal_encoder = OrdinalEncoder()\r\n",
        "ordinal_encoder.fit(X_train)\r\n",
        "X_train = ordinal_encoder.transform(X_train)\r\n",
        "\r\n",
        "ordinal_encoder.fit(X_test)\r\n",
        "X_test = ordinal_encoder.transform(X_test)\r\n"
      ],
      "execution_count": 12,
      "outputs": []
    },
    {
      "cell_type": "code",
      "metadata": {
        "id": "PpwWC335RGLh"
      },
      "source": [
        "from sklearn.preprocessing import StandardScaler\r\n",
        "sc = StandardScaler()\r\n",
        "X_train = sc.fit_transform(X_train)\r\n",
        "X_test = sc.fit_transform(X_test)"
      ],
      "execution_count": 13,
      "outputs": []
    },
    {
      "cell_type": "code",
      "metadata": {
        "colab": {
          "base_uri": "https://localhost:8080/"
        },
        "id": "bcS0Y8yfUoGM",
        "outputId": "f5400b04-ca53-4b5d-8510-11566cc6b7fd"
      },
      "source": [
        "from __future__ import print_function, division\r\n",
        "from builtins import range\r\n",
        "from datetime import datetime\r\n",
        "\r\n",
        "from sklearn.svm import SVC\r\n",
        "\r\n",
        "# model = SVC()\r\n",
        "\r\n",
        "model = SVC(C=5., gamma=.05)\r\n",
        "\r\n",
        "t0 = datetime.now()\r\n",
        "model.fit(X_train, Y_train)\r\n",
        "print(\"train duration:\", datetime.now() - t0)\r\n",
        "t0 = datetime.now()\r\n",
        "print(\"train score:\", model.score(X_train, Y_train), \"duration:\", datetime.now() - t0)\r\n",
        "t0 = datetime.now()\r\n",
        "print(\"test score:\", model.score(X_test, Y_test), \"duration:\", datetime.now() - t0)"
      ],
      "execution_count": 14,
      "outputs": [
        {
          "output_type": "stream",
          "text": [
            "train duration: 0:00:01.622428\n",
            "train score: 0.8635072772452964 duration: 0:00:00.779515\n",
            "test score: 0.758694109297374 duration: 0:00:00.191310\n"
          ],
          "name": "stdout"
        }
      ]
    }
  ]
}